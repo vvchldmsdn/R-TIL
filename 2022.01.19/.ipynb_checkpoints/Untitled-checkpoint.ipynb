{
 "cells": [
  {
   "cell_type": "markdown",
   "id": "6ad8b9f3",
   "metadata": {},
   "source": [
    "# 0119 함수 수업"
   ]
  },
  {
   "cell_type": "markdown",
   "id": "8e36bed2",
   "metadata": {},
   "source": [
    "## -map-"
   ]
  },
  {
   "cell_type": "code",
   "execution_count": null,
   "id": "35351203",
   "metadata": {},
   "outputs": [],
   "source": [
    "n, m = map(int, input().split()) "
   ]
  },
  {
   "cell_type": "markdown",
   "id": "d69ab018",
   "metadata": {},
   "source": [
    "* n, m을 바로 정수형으로 입력 받고 싶을 때"
   ]
  },
  {
   "cell_type": "code",
   "execution_count": null,
   "id": "c19f7d7b",
   "metadata": {},
   "outputs": [],
   "source": [
    "int(input_value.split())"
   ]
  },
  {
   "cell_type": "markdown",
   "id": "2549f631",
   "metadata": {},
   "source": [
    "input_value.split() 은 리스트이기 때문에 안됨"
   ]
  },
  {
   "cell_type": "markdown",
   "id": "423b1022",
   "metadata": {},
   "source": [
    "## map 적용사례"
   ]
  },
  {
   "cell_type": "code",
   "execution_count": 12,
   "id": "17b754f9",
   "metadata": {},
   "outputs": [
    {
     "name": "stdout",
     "output_type": "stream",
     "text": [
      "10 10\n"
     ]
    }
   ],
   "source": [
    "a = input().split()"
   ]
  },
  {
   "cell_type": "code",
   "execution_count": 13,
   "id": "b2d31734",
   "metadata": {},
   "outputs": [
    {
     "data": {
      "text/plain": [
       "<map at 0x20112a20040>"
      ]
     },
     "execution_count": 13,
     "metadata": {},
     "output_type": "execute_result"
    }
   ],
   "source": [
    "map(int, a)"
   ]
  },
  {
   "cell_type": "code",
   "execution_count": null,
   "id": "c09fb9d8",
   "metadata": {},
   "outputs": [],
   "source": []
  },
  {
   "cell_type": "code",
   "execution_count": 14,
   "id": "0d1ce2dc",
   "metadata": {},
   "outputs": [
    {
     "data": {
      "text/plain": [
       "[10, 10]"
      ]
     },
     "execution_count": 14,
     "metadata": {},
     "output_type": "execute_result"
    }
   ],
   "source": [
    "list(map(int, a))"
   ]
  },
  {
   "cell_type": "code",
   "execution_count": 7,
   "id": "026dcdae",
   "metadata": {},
   "outputs": [
    {
     "name": "stdout",
     "output_type": "stream",
     "text": [
      "10 10\n",
      "10 10 <class 'int'>\n"
     ]
    }
   ],
   "source": [
    "# 최종코드\n",
    "n, m = map(int, input().split())\n",
    "print(n,m, type(n))"
   ]
  },
  {
   "cell_type": "markdown",
   "id": "ad25a1b9",
   "metadata": {},
   "source": [
    "* 각 요소에 적용하고 싶은 함수의 이름 적기 map(function, input) (function위치에)"
   ]
  },
  {
   "cell_type": "markdown",
   "id": "a9573fb1",
   "metadata": {},
   "source": [
    "map(함수이름, list) -> list로 반환안함 -> list길이가 10만 이여도 한 번에 다 저장하는게 아니라 다음 것들을 불러오는 구조"
   ]
  },
  {
   "cell_type": "markdown",
   "id": "cbf6ad14",
   "metadata": {},
   "source": []
  },
  {
   "cell_type": "code",
   "execution_count": null,
   "id": "ceea97c5",
   "metadata": {},
   "outputs": [],
   "source": []
  },
  {
   "cell_type": "markdown",
   "id": "ab72273b",
   "metadata": {},
   "source": [
    "## filter"
   ]
  },
  {
   "cell_type": "code",
   "execution_count": null,
   "id": "bb631ea5",
   "metadata": {},
   "outputs": [],
   "source": [
    "* filter(funcion, ilterable) -> "
   ]
  },
  {
   "cell_type": "code",
   "execution_count": null,
   "id": "f4e16efa",
   "metadata": {},
   "outputs": [],
   "source": []
  },
  {
   "cell_type": "markdown",
   "id": "39c37bdd",
   "metadata": {},
   "source": [
    "## zip"
   ]
  },
  {
   "cell_type": "markdown",
   "id": "b70fbd5d",
   "metadata": {},
   "source": [
    "zip(*iterables)"
   ]
  },
  {
   "cell_type": "code",
   "execution_count": null,
   "id": "b7fbe690",
   "metadata": {},
   "outputs": [],
   "source": []
  },
  {
   "cell_type": "markdown",
   "id": "3eff344e",
   "metadata": {},
   "source": [
    "## lambda"
   ]
  },
  {
   "cell_type": "markdown",
   "id": "09db34a3",
   "metadata": {},
   "source": [
    "lambda (parameter): (return)"
   ]
  },
  {
   "cell_type": "markdown",
   "id": "39853079",
   "metadata": {},
   "source": [
    "### lambda 예시"
   ]
  },
  {
   "cell_type": "code",
   "execution_count": 15,
   "id": "279ef295",
   "metadata": {},
   "outputs": [
    {
     "name": "stdout",
     "output_type": "stream",
     "text": [
      "[1, 3]\n"
     ]
    }
   ],
   "source": [
    "def odd(n):\n",
    "    return n % 2\n",
    "\n",
    "a = filter(odd, range(5))\n",
    "b = list(a)\n",
    "print(b)"
   ]
  },
  {
   "cell_type": "code",
   "execution_count": 16,
   "id": "a7191583",
   "metadata": {
    "scrolled": true
   },
   "outputs": [
    {
     "name": "stdout",
     "output_type": "stream",
     "text": [
      "[1, 3]\n"
     ]
    }
   ],
   "source": [
    "print(list(filter(lambda n: n % 2, range(5))))"
   ]
  },
  {
   "cell_type": "markdown",
   "id": "6863e47c",
   "metadata": {},
   "source": [
    "* 위의 두 코드가 동일 -> 한번 만 쓰고 싶을 때 효율적"
   ]
  },
  {
   "cell_type": "markdown",
   "id": "ac6f1f30",
   "metadata": {},
   "source": [
    "## 재귀함수"
   ]
  },
  {
   "cell_type": "markdown",
   "id": "866536ac",
   "metadata": {},
   "source": [
    "* 자기 자신을 호출하는 함수"
   ]
  },
  {
   "cell_type": "markdown",
   "id": "565bd645",
   "metadata": {},
   "source": [
    "1개 이상의 종료되는 상황이 존재하고 수렴하도록 작성\n",
    "\n",
    "내가 정의하고 안에서 스스로 호출하는 구조"
   ]
  },
  {
   "cell_type": "markdown",
   "id": "9895813f",
   "metadata": {},
   "source": [
    "### 재귀 예시 - Factorial"
   ]
  },
  {
   "cell_type": "markdown",
   "id": "016b0649",
   "metadata": {},
   "source": [
    "f(1) = 1\n",
    "\n",
    "f(2) = 2 * f(1)\n",
    "\n",
    "f(3) = 3 * f(2) ....\n",
    "\n",
    "이렇게 가기 때문"
   ]
  },
  {
   "cell_type": "code",
   "execution_count": 17,
   "id": "30d4439c",
   "metadata": {},
   "outputs": [],
   "source": [
    "def factorial(n):\n",
    "    if n == 0 or n == 1:\n",
    "        return 1\n",
    "    else:\n",
    "        return n * factorial(n - 1)"
   ]
  },
  {
   "cell_type": "code",
   "execution_count": 18,
   "id": "d5e24849",
   "metadata": {},
   "outputs": [
    {
     "data": {
      "text/plain": [
       "24"
      ]
     },
     "execution_count": 18,
     "metadata": {},
     "output_type": "execute_result"
    }
   ],
   "source": [
    "factorial(4)"
   ]
  },
  {
   "cell_type": "code",
   "execution_count": null,
   "id": "d81c004e",
   "metadata": {},
   "outputs": [],
   "source": []
  },
  {
   "cell_type": "markdown",
   "id": "0e5525de",
   "metadata": {},
   "source": [
    "# 모듈"
   ]
  },
  {
   "cell_type": "markdown",
   "id": "23e88742",
   "metadata": {},
   "source": [
    "## 모듈과 패키지"
   ]
  },
  {
   "cell_type": "markdown",
   "id": "babe43cc",
   "metadata": {},
   "source": [
    "모듈: 특정 기능을 하는 코드를 파이썬 파일(.py) 단위로 작성한 것\n",
    "\n",
    "패키지: 특정 기능과 관련된 여러 모듈의 집합\n",
    "\n",
    "        패키지 안에는 또 다른 서브 패키지를 포함"
   ]
  },
  {
   "cell_type": "markdown",
   "id": "af5e603d",
   "metadata": {},
   "source": []
  },
  {
   "cell_type": "code",
   "execution_count": null,
   "id": "f3f8d8d9",
   "metadata": {},
   "outputs": [],
   "source": []
  }
 ],
 "metadata": {
  "kernelspec": {
   "display_name": "Python 3 (ipykernel)",
   "language": "python",
   "name": "python3"
  },
  "language_info": {
   "codemirror_mode": {
    "name": "ipython",
    "version": 3
   },
   "file_extension": ".py",
   "mimetype": "text/x-python",
   "name": "python",
   "nbconvert_exporter": "python",
   "pygments_lexer": "ipython3",
   "version": "3.9.9"
  },
  "toc": {
   "base_numbering": 1,
   "nav_menu": {},
   "number_sections": true,
   "sideBar": true,
   "skip_h1_title": false,
   "title_cell": "Table of Contents",
   "title_sidebar": "Contents",
   "toc_cell": false,
   "toc_position": {},
   "toc_section_display": true,
   "toc_window_display": false
  }
 },
 "nbformat": 4,
 "nbformat_minor": 5
}
